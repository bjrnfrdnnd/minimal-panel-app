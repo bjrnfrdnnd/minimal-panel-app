{
 "cells": [
  {
   "cell_type": "code",
   "execution_count": null,
   "metadata": {},
   "outputs": [],
   "source": [
    "from sklearn.datasets import load_iris\n",
    "iris = load_iris()"
   ]
  },
  {
   "cell_type": "code",
   "execution_count": null,
   "metadata": {},
   "outputs": [],
   "source": [
    "X = iris['data']\n",
    "y = iris['target']\n",
    "names = iris['target_names']"
   ]
  },
  {
   "cell_type": "code",
   "execution_count": null,
   "metadata": {},
   "outputs": [],
   "source": [
    "import panel as pn\n",
    "import pandas as pd\n",
    "import hvplot.pandas \n",
    "import holoviews as hv \n",
    "import janitor\n",
    "\n",
    "from panel.interact import fixed\n",
    "hv.extension(\"bokeh\")\n",
    "\n",
    "%load_ext autoreload\n",
    "%autoreload 2\n",
    "%matplotlib inline"
   ]
  },
  {
   "cell_type": "markdown",
   "metadata": {},
   "source": [
    "## Iris Tab"
   ]
  },
  {
   "cell_type": "code",
   "execution_count": 4,
   "metadata": {},
   "outputs": [],
   "source": [
    "mapping = {i:v for i, v in enumerate(iris['target_names'])}\n",
    "df = pd.DataFrame(X)\n",
    "df.columns = iris['feature_names']\n",
    "df['flower_type'] = iris['target']\n",
    "df['flower_type'] = df['flower_type'].apply(lambda x: mapping.get(x))"
   ]
  },
  {
   "cell_type": "code",
   "execution_count": 5,
   "metadata": {},
   "outputs": [],
   "source": [
    "def pairplot(df, x, y):\n",
    "    return df.hvplot.scatter(x=x, y=y, c=\"flower_type\").opts(width=600, height=400)\n",
    "\n",
    "x = pn.widgets.Select(options=iris['feature_names'])\n",
    "y = pn.widgets.Select(options=iris['feature_names'])\n",
    "\n",
    "scatter = pn.interact(pairplot, df=fixed(df), x=iris['feature_names'], y=iris['feature_names'])"
   ]
  },
  {
   "cell_type": "code",
   "execution_count": 6,
   "metadata": {},
   "outputs": [],
   "source": [
    "scatter_txt = pn.pane.Markdown(\"\"\"\n",
    "# Iris Dataset\n",
    "\n",
    "Pick the x- and y-axes from the dropdown menus to explore how the three flower types differ from one another.\n",
    "\"\"\")\n",
    "\n",
    "scatter_tab = pn.Column(scatter_txt, scatter)"
   ]
  },
  {
   "cell_type": "markdown",
   "metadata": {},
   "source": [
    "## HIV Tab"
   ]
  },
  {
   "cell_type": "code",
   "execution_count": 7,
   "metadata": {},
   "outputs": [],
   "source": [
    "intro_hiv = pn.pane.Markdown(\"\"\"\n",
    "# HIV Resistance Prediction\n",
    "\n",
    "This shows how to write an app that accepts a file input\n",
    "and returns a model prediction.\n",
    "\"\"\")"
   ]
  },
  {
   "cell_type": "code",
   "execution_count": 25,
   "metadata": {},
   "outputs": [
    {
     "name": "stderr",
     "output_type": "stream",
     "text": [
      "/home/ericmjl/anaconda/envs/minimal-panel/lib/python3.7/site-packages/distributed/dashboard/core.py:74: UserWarning: \n",
      "Port 8787 is already in use. \n",
      "Perhaps you already have a cluster running?\n",
      "Hosting the diagnostics dashboard on a random port instead.\n",
      "  warnings.warn(\"\\n\" + msg)\n",
      "distributed.scheduler - INFO - Receive client connection: Client-cbaa4df0-b331-11e9-9665-b0c090a5d351\n",
      "distributed.core - INFO - Starting established connection\n"
     ]
    }
   ],
   "source": [
    "from dask.distributed import LocalCluster, Client\n",
    "\n",
    "cluster = LocalCluster()\n",
    "client = Client(cluster)"
   ]
  },
  {
   "cell_type": "code",
   "execution_count": 18,
   "metadata": {},
   "outputs": [],
   "source": [
    "import numpy as np\n",
    "\n",
    "molecular_weights = {\n",
    "    'A':89.0935,\n",
    "    'R':174.2017,\n",
    "    'N':132.1184,\n",
    "    'D':133.1032,\n",
    "    'C':121.1590,\n",
    "    'E':147.1299,\n",
    "    'Q':146.1451,\n",
    "    'G':75.0669,\n",
    "    'H':155.1552,\n",
    "    'I':131.1736,\n",
    "    'L':131.1736,\n",
    "    'K':146.1882,\n",
    "    'M':149.2124,\n",
    "    'F':165.1900,\n",
    "    'P':115.1310,\n",
    "    'S':105.0930,\n",
    "    'T':119.1197,\n",
    "    'W':204.2262,\n",
    "    'Y':181.1894,\n",
    "    'V':117.1469,\n",
    "    'X':100.00\n",
    "}\n",
    "\n",
    "\n",
    "def featurize_sequence_(x):\n",
    "    \"\"\"x: a string in a pandas DataFrame cell\"\"\"\n",
    "    feats = np.zeros(len(x))\n",
    "    for i, letter in enumerate(x):\n",
    "        feats[i] = molecular_weights[letter]\n",
    "    return feats"
   ]
  },
  {
   "cell_type": "code",
   "execution_count": 53,
   "metadata": {},
   "outputs": [
    {
     "name": "stderr",
     "output_type": "stream",
     "text": [
      "/home/ericmjl/anaconda/envs/minimal-panel/lib/python3.7/site-packages/janitor/functions.py:2077: SettingWithCopyWarning: \n",
      "A value is trying to be set on a copy of a slice from a DataFrame.\n",
      "Try using .loc[row_indexer,col_indexer] = value instead\n",
      "\n",
      "See the caveats in the documentation: http://pandas.pydata.org/pandas-docs/stable/indexing.html#indexing-view-versus-copy\n",
      "  df[dest_column_name] = df[column_name].apply(function)\n"
     ]
    },
    {
     "data": {
      "text/html": [
       "<div>\n",
       "<style scoped>\n",
       "    .dataframe tbody tr th:only-of-type {\n",
       "        vertical-align: middle;\n",
       "    }\n",
       "\n",
       "    .dataframe tbody tr th {\n",
       "        vertical-align: top;\n",
       "    }\n",
       "\n",
       "    .dataframe thead th {\n",
       "        text-align: right;\n",
       "    }\n",
       "</style>\n",
       "<table border=\"1\" class=\"dataframe\">\n",
       "  <thead>\n",
       "    <tr style=\"text-align: right;\">\n",
       "      <th></th>\n",
       "      <th>ATV</th>\n",
       "      <th>DRV</th>\n",
       "      <th>FPV</th>\n",
       "      <th>IDV</th>\n",
       "      <th>LPV</th>\n",
       "      <th>NFV</th>\n",
       "      <th>SQV</th>\n",
       "      <th>SeqID</th>\n",
       "      <th>TPV</th>\n",
       "      <th>seqid</th>\n",
       "      <th>sequence</th>\n",
       "      <th>sequence_object</th>\n",
       "      <th>weight</th>\n",
       "      <th>seq_length</th>\n",
       "      <th>features</th>\n",
       "    </tr>\n",
       "  </thead>\n",
       "  <tbody>\n",
       "    <tr>\n",
       "      <th>6</th>\n",
       "      <td>1.50515</td>\n",
       "      <td>NaN</td>\n",
       "      <td>0.477121</td>\n",
       "      <td>1.544068</td>\n",
       "      <td>1.50515</td>\n",
       "      <td>1.462398</td>\n",
       "      <td>2.214844</td>\n",
       "      <td>4426</td>\n",
       "      <td>NaN</td>\n",
       "      <td>4426-0</td>\n",
       "      <td>PQITLWQRPIVTIKIGGQLKEALLDTGADDTVLEEMNLPGKWKPKM...</td>\n",
       "      <td>ID: 4426-0\\nName: &lt;unknown name&gt;\\nDescription:...</td>\n",
       "      <td>1.0</td>\n",
       "      <td>99</td>\n",
       "      <td>[115.131, 146.1451, 131.1736, 119.1197, 131.17...</td>\n",
       "    </tr>\n",
       "    <tr>\n",
       "      <th>7</th>\n",
       "      <td>NaN</td>\n",
       "      <td>NaN</td>\n",
       "      <td>0.176091</td>\n",
       "      <td>0.000000</td>\n",
       "      <td>NaN</td>\n",
       "      <td>0.342423</td>\n",
       "      <td>0.041393</td>\n",
       "      <td>4432</td>\n",
       "      <td>NaN</td>\n",
       "      <td>4432-0</td>\n",
       "      <td>PQITLWQRPLVTVKIGGQLKEALLDTGADDTVLEEMNLPGRWKPKM...</td>\n",
       "      <td>ID: 4432-0\\nName: &lt;unknown name&gt;\\nDescription:...</td>\n",
       "      <td>1.0</td>\n",
       "      <td>99</td>\n",
       "      <td>[115.131, 146.1451, 131.1736, 119.1197, 131.17...</td>\n",
       "    </tr>\n",
       "    <tr>\n",
       "      <th>14</th>\n",
       "      <td>NaN</td>\n",
       "      <td>NaN</td>\n",
       "      <td>0.491362</td>\n",
       "      <td>0.939519</td>\n",
       "      <td>NaN</td>\n",
       "      <td>1.505150</td>\n",
       "      <td>1.227887</td>\n",
       "      <td>4664</td>\n",
       "      <td>NaN</td>\n",
       "      <td>4664-0</td>\n",
       "      <td>PQITLWQRPIVTIKVGGQLIEALLDTGADDTVLEEINLPGRWKPKM...</td>\n",
       "      <td>ID: 4664-0\\nName: &lt;unknown name&gt;\\nDescription:...</td>\n",
       "      <td>1.0</td>\n",
       "      <td>99</td>\n",
       "      <td>[115.131, 146.1451, 131.1736, 119.1197, 131.17...</td>\n",
       "    </tr>\n",
       "  </tbody>\n",
       "</table>\n",
       "</div>"
      ],
      "text/plain": [
       "        ATV  DRV       FPV       IDV      LPV       NFV       SQV  SeqID  TPV  \\\n",
       "6   1.50515  NaN  0.477121  1.544068  1.50515  1.462398  2.214844   4426  NaN   \n",
       "7       NaN  NaN  0.176091  0.000000      NaN  0.342423  0.041393   4432  NaN   \n",
       "14      NaN  NaN  0.491362  0.939519      NaN  1.505150  1.227887   4664  NaN   \n",
       "\n",
       "     seqid                                           sequence  \\\n",
       "6   4426-0  PQITLWQRPIVTIKIGGQLKEALLDTGADDTVLEEMNLPGKWKPKM...   \n",
       "7   4432-0  PQITLWQRPLVTVKIGGQLKEALLDTGADDTVLEEMNLPGRWKPKM...   \n",
       "14  4664-0  PQITLWQRPIVTIKVGGQLIEALLDTGADDTVLEEINLPGRWKPKM...   \n",
       "\n",
       "                                      sequence_object  weight  seq_length  \\\n",
       "6   ID: 4426-0\\nName: <unknown name>\\nDescription:...     1.0          99   \n",
       "7   ID: 4432-0\\nName: <unknown name>\\nDescription:...     1.0          99   \n",
       "14  ID: 4664-0\\nName: <unknown name>\\nDescription:...     1.0          99   \n",
       "\n",
       "                                             features  \n",
       "6   [115.131, 146.1451, 131.1736, 119.1197, 131.17...  \n",
       "7   [115.131, 146.1451, 131.1736, 119.1197, 131.17...  \n",
       "14  [115.131, 146.1451, 131.1736, 119.1197, 131.17...  "
      ]
     },
     "execution_count": 53,
     "metadata": {},
     "output_type": "execute_result"
    }
   ],
   "source": [
    "drugs = ['ATV', 'DRV', 'FPV', 'IDV', 'LPV', 'NFV', 'SQV', 'TPV']\n",
    "\n",
    "data = (\n",
    "    pd.read_csv(\"data/hiv-protease-data-expanded.csv\", index_col=0)\n",
    "    .query(\"weight == 1.0\")\n",
    "    .transform_column(\"sequence\", lambda x: len(x), \"seq_length\")\n",
    "    .query(\"seq_length == 99\")\n",
    "    .transform_column(\"sequence\", featurize_sequence_, \"features\")\n",
    "    .transform_columns(drugs, np.log10)\n",
    ")\n",
    "data.head(3)"
   ]
  },
  {
   "cell_type": "code",
   "execution_count": 54,
   "metadata": {},
   "outputs": [],
   "source": [
    "features = pd.DataFrame(np.vstack(data['features'])).set_index(data.index)"
   ]
  },
  {
   "cell_type": "code",
   "execution_count": 102,
   "metadata": {},
   "outputs": [],
   "source": [
    "from sklearn.ensemble import RandomForestRegressor\n",
    "from sklearn.model_selection import cross_val_score\n",
    "\n",
    "\n",
    "def fit_model(data, features, target):\n",
    "    import janitor\n",
    "    model = RandomForestRegressor(n_estimators=300)\n",
    "    \n",
    "    resistance_data = features.join(data[target]).dropna()\n",
    "    X, y = resistance_data.get_features_targets(target_column_names=target)\n",
    "    \n",
    "    model.fit(X, y)\n",
    "    return model\n",
    "\n",
    "\n",
    "def cross_validate(data, features, target):\n",
    "    import janitor\n",
    "    model = RandomForestRegressor(n_estimators=500)\n",
    "    \n",
    "    resistance_data = features.join(data[target]).dropna()\n",
    "    X, y = resistance_data.get_features_targets(target_column_names=target)\n",
    "    \n",
    "    return -cross_val_score(model, X, y, scoring='neg_mean_squared_error', cv=5)\n",
    "\n",
    "\n",
    "def predict(model, sequence):\n",
    "    \"\"\"\n",
    "    :param model: sklearn model\n",
    "    :param sequence: A string, should be 99 characters long.\n",
    "    \"\"\"\n",
    "    assert len(sequence) == 99\n",
    "    assert set(sequence) == set(molecular_weights.keys())\n",
    "    \n",
    "    seqfeat = featurize_sequence_(sequence)\n",
    "    return model.predict(seqfeat)\n",
    "    \n",
    "    \n",
    "\n",
    "dataf = client.scatter(data)\n",
    "featuresf = client.scatter(features)\n",
    "\n",
    "\n",
    "models = dict()\n",
    "scores = dict()\n",
    "\n",
    "\n",
    "for drug in drugs:\n",
    "    models[drug] = client.submit(fit_model, dataf, featuresf, drug)\n",
    "    scores[drug] = client.submit(cross_validate, dataf, featuresf, drug)\n",
    "\n"
   ]
  },
  {
   "cell_type": "code",
   "execution_count": 114,
   "metadata": {},
   "outputs": [],
   "source": [
    "# client.gather(models)"
   ]
  },
  {
   "cell_type": "code",
   "execution_count": 115,
   "metadata": {},
   "outputs": [],
   "source": [
    "# client.gather(scores)"
   ]
  },
  {
   "cell_type": "code",
   "execution_count": 112,
   "metadata": {},
   "outputs": [
    {
     "data": {
      "application/vnd.holoviews_exec.v0+json": "",
      "text/html": [
       "<div id='1939' style='display: table; margin: 0 auto;'>\n",
       "\n",
       "\n",
       "\n",
       "\n",
       "\n",
       "  <div class=\"bk-root\" id=\"1b9a2472-9204-4e00-86cb-6dbab10a56df\" data-root-id=\"1939\"></div>\n",
       "</div>\n",
       "<script type=\"application/javascript\">(function(root) {\n",
       "  function embed_document(root) {\n",
       "    \n",
       "  var docs_json = {\"dcc300f2-41f9-40cc-9164-fd95749eabd0\":{\"roots\":{\"references\":[{\"attributes\":{\"below\":[{\"id\":\"1948\",\"type\":\"CategoricalAxis\"}],\"center\":[{\"id\":\"1951\",\"type\":\"Grid\"},{\"id\":\"1956\",\"type\":\"Grid\"},{\"id\":\"2020\",\"type\":\"Legend\"}],\"left\":[{\"id\":\"1952\",\"type\":\"LinearAxis\"}],\"margin\":null,\"min_border_bottom\":10,\"min_border_left\":10,\"min_border_right\":10,\"min_border_top\":10,\"plot_height\":300,\"plot_width\":700,\"renderers\":[{\"id\":\"1972\",\"type\":\"GlyphRenderer\"},{\"id\":\"1978\",\"type\":\"GlyphRenderer\"},{\"id\":\"1984\",\"type\":\"GlyphRenderer\"},{\"id\":\"1990\",\"type\":\"GlyphRenderer\"},{\"id\":\"1996\",\"type\":\"GlyphRenderer\"},{\"id\":\"2002\",\"type\":\"GlyphRenderer\"},{\"id\":\"2026\",\"type\":\"GlyphRenderer\"}],\"sizing_mode\":\"fixed\",\"title\":{\"id\":\"1940\",\"type\":\"Title\"},\"toolbar\":{\"id\":\"1962\",\"type\":\"Toolbar\"},\"x_range\":{\"id\":\"1937\",\"type\":\"FactorRange\"},\"x_scale\":{\"id\":\"1944\",\"type\":\"CategoricalScale\"},\"y_range\":{\"id\":\"1938\",\"type\":\"Range1d\"},\"y_scale\":{\"id\":\"1946\",\"type\":\"LinearScale\"}},\"id\":\"1939\",\"subtype\":\"Figure\",\"type\":\"Plot\"},{\"attributes\":{},\"id\":\"2017\",\"type\":\"UnionRenderers\"},{\"attributes\":{},\"id\":\"2016\",\"type\":\"Selection\"},{\"attributes\":{\"source\":{\"id\":\"2022\",\"type\":\"ColumnDataSource\"}},\"id\":\"2027\",\"type\":\"CDSView\"},{\"attributes\":{\"fill_color\":{\"value\":\"black\"},\"x\":{\"field\":\"index\"},\"y\":{\"field\":\"value\"}},\"id\":\"1970\",\"type\":\"Circle\"},{\"attributes\":{\"x0\":{\"field\":\"x0\"},\"x1\":{\"field\":\"x1\"},\"y0\":{\"field\":\"y0\"},\"y1\":{\"field\":\"y1\"}},\"id\":\"1976\",\"type\":\"Segment\"},{\"attributes\":{\"callback\":null,\"data\":{\"x0\":[[\"ATV\",-0.2],[\"DRV\",-0.2],[\"FPV\",-0.2],[\"IDV\",-0.2],[\"LPV\",-0.2],[\"NFV\",-0.2],[\"SQV\",-0.2],[\"TPV\",-0.2]],\"x1\":[[\"ATV\",0.2],[\"DRV\",0.2],[\"FPV\",0.2],[\"IDV\",0.2],[\"LPV\",0.2],[\"NFV\",0.2],[\"SQV\",0.2],[\"TPV\",0.2]],\"y0\":[0.17016348927023334,0.07641068526129104,0.10548072862999602,0.09285452713553756,0.13582025998517516,0.10752896857881004,0.11787480321558383,0.048846482671365356],\"y1\":[0.17016348927023334,0.07641068526129104,0.10548072862999602,0.09285452713553756,0.13582025998517516,0.10752896857881004,0.11787480321558383,0.048846482671365356]},\"selected\":{\"id\":\"2016\",\"type\":\"Selection\"},\"selection_policy\":{\"id\":\"2017\",\"type\":\"UnionRenderers\"}},\"id\":\"1986\",\"type\":\"ColumnDataSource\"},{\"attributes\":{\"bottom\":{\"field\":\"bottom\"},\"fill_alpha\":{\"value\":0.1},\"fill_color\":{\"value\":\"#1f77b4\"},\"line_alpha\":{\"value\":0.1},\"line_color\":{\"value\":\"black\"},\"top\":{\"field\":\"top\"},\"width\":{\"value\":0.7},\"x\":{\"field\":\"index\"}},\"id\":\"2001\",\"type\":\"VBar\"},{\"attributes\":{\"data_source\":{\"id\":\"1968\",\"type\":\"ColumnDataSource\"},\"glyph\":{\"id\":\"1970\",\"type\":\"Circle\"},\"hover_glyph\":null,\"muted_glyph\":null,\"nonselection_glyph\":{\"id\":\"1971\",\"type\":\"Circle\"},\"selection_glyph\":null,\"view\":{\"id\":\"1973\",\"type\":\"CDSView\"}},\"id\":\"1972\",\"type\":\"GlyphRenderer\"},{\"attributes\":{\"line_alpha\":{\"value\":0.1},\"line_color\":{\"value\":\"black\"},\"x0\":{\"field\":\"x0\"},\"x1\":{\"field\":\"x1\"},\"y0\":{\"field\":\"y0\"},\"y1\":{\"field\":\"y1\"}},\"id\":\"1977\",\"type\":\"Segment\"},{\"attributes\":{\"data_source\":{\"id\":\"1998\",\"type\":\"ColumnDataSource\"},\"glyph\":{\"id\":\"2000\",\"type\":\"VBar\"},\"hover_glyph\":null,\"muted_glyph\":null,\"nonselection_glyph\":{\"id\":\"2001\",\"type\":\"VBar\"},\"selection_glyph\":null,\"view\":{\"id\":\"2003\",\"type\":\"CDSView\"}},\"id\":\"2002\",\"type\":\"GlyphRenderer\"},{\"attributes\":{\"source\":{\"id\":\"1968\",\"type\":\"ColumnDataSource\"}},\"id\":\"1973\",\"type\":\"CDSView\"},{\"attributes\":{},\"id\":\"2051\",\"type\":\"UnionRenderers\"},{\"attributes\":{\"source\":{\"id\":\"1986\",\"type\":\"ColumnDataSource\"}},\"id\":\"1991\",\"type\":\"CDSView\"},{\"attributes\":{\"bottom\":{\"field\":\"bottom\"},\"fill_color\":{\"value\":\"#1f77b4\"},\"top\":{\"field\":\"top\"},\"width\":{\"value\":0.7},\"x\":{\"field\":\"index\"}},\"id\":\"2000\",\"type\":\"VBar\"},{\"attributes\":{},\"id\":\"2014\",\"type\":\"Selection\"},{\"attributes\":{},\"id\":\"1958\",\"type\":\"PanTool\"},{\"attributes\":{},\"id\":\"2012\",\"type\":\"Selection\"},{\"attributes\":{\"data_source\":{\"id\":\"1974\",\"type\":\"ColumnDataSource\"},\"glyph\":{\"id\":\"1976\",\"type\":\"Segment\"},\"hover_glyph\":null,\"muted_glyph\":null,\"nonselection_glyph\":{\"id\":\"1977\",\"type\":\"Segment\"},\"selection_glyph\":null,\"view\":{\"id\":\"1979\",\"type\":\"CDSView\"}},\"id\":\"1978\",\"type\":\"GlyphRenderer\"},{\"attributes\":{\"source\":{\"id\":\"1974\",\"type\":\"ColumnDataSource\"}},\"id\":\"1979\",\"type\":\"CDSView\"},{\"attributes\":{},\"id\":\"2011\",\"type\":\"UnionRenderers\"},{\"attributes\":{\"source\":{\"id\":\"1998\",\"type\":\"ColumnDataSource\"}},\"id\":\"2003\",\"type\":\"CDSView\"},{\"attributes\":{\"fill_alpha\":{\"value\":0.1},\"fill_color\":{\"value\":\"black\"},\"line_alpha\":{\"value\":0.1},\"line_color\":{\"value\":\"black\"},\"x\":{\"field\":\"index\"},\"y\":{\"field\":\"value\"}},\"id\":\"1971\",\"type\":\"Circle\"},{\"attributes\":{\"x0\":{\"field\":\"x0\"},\"x1\":{\"field\":\"x1\"},\"y0\":{\"field\":\"y0\"},\"y1\":{\"field\":\"y1\"}},\"id\":\"1994\",\"type\":\"Segment\"},{\"attributes\":{\"callback\":null,\"data\":{\"bottom\":{\"__ndarray__\":\"p1eG69FJyT/yuztCHTvFP78s4Hm4TME/d5nH82PPwD9WfNvnc+nBPxdaKR8xFsY/DH8KixE6yT/U79AHW8XIPw==\",\"dtype\":\"float64\",\"shape\":[8]},\"index\":[\"ATV\",\"DRV\",\"FPV\",\"IDV\",\"LPV\",\"NFV\",\"SQV\",\"TPV\"],\"top\":{\"__ndarray__\":\"yvF7ct39xz/GLEcZq+O/P864d/VG9cA/4bCwhb6tuz+CmgrCZ9nBP/cVruTW48I/I1deBHf7xz+vQRDs+J3CPw==\",\"dtype\":\"float64\",\"shape\":[8]}},\"selected\":{\"id\":\"2048\",\"type\":\"Selection\"},\"selection_policy\":{\"id\":\"2049\",\"type\":\"UnionRenderers\"}},\"id\":\"1998\",\"type\":\"ColumnDataSource\"},{\"attributes\":{\"bottom_units\":\"screen\",\"fill_alpha\":{\"value\":0.5},\"fill_color\":{\"value\":\"lightgrey\"},\"left_units\":\"screen\",\"level\":\"overlay\",\"line_alpha\":{\"value\":1.0},\"line_color\":{\"value\":\"black\"},\"line_dash\":[4,4],\"line_width\":{\"value\":2},\"render_mode\":\"css\",\"right_units\":\"screen\",\"top_units\":\"screen\"},\"id\":\"2009\",\"type\":\"BoxAnnotation\"},{\"attributes\":{},\"id\":\"2018\",\"type\":\"Selection\"},{\"attributes\":{\"data_source\":{\"id\":\"1992\",\"type\":\"ColumnDataSource\"},\"glyph\":{\"id\":\"1994\",\"type\":\"Segment\"},\"hover_glyph\":null,\"muted_glyph\":null,\"nonselection_glyph\":{\"id\":\"1995\",\"type\":\"Segment\"},\"selection_glyph\":null,\"view\":{\"id\":\"1997\",\"type\":\"CDSView\"}},\"id\":\"1996\",\"type\":\"GlyphRenderer\"},{\"attributes\":{\"items\":[]},\"id\":\"2020\",\"type\":\"Legend\"},{\"attributes\":{\"axis_label\":\"mse\",\"bounds\":\"auto\",\"formatter\":{\"id\":\"2008\",\"type\":\"BasicTickFormatter\"},\"major_label_orientation\":\"horizontal\",\"ticker\":{\"id\":\"1953\",\"type\":\"BasicTicker\"}},\"id\":\"1952\",\"type\":\"LinearAxis\"},{\"attributes\":{\"x0\":{\"field\":\"x0\"},\"x1\":{\"field\":\"x1\"},\"y0\":{\"field\":\"y0\"},\"y1\":{\"field\":\"y1\"}},\"id\":\"1988\",\"type\":\"Segment\"},{\"attributes\":{},\"id\":\"2013\",\"type\":\"UnionRenderers\"},{\"attributes\":{\"callback\":null,\"data\":{\"index\":[\"ATV\",\"ATV\",\"FPV\",\"LPV\",\"LPV\",\"SQV\"],\"value\":{\"__ndarray__\":\"XC7cDXlm0j9cl8Hjmw64P3ksCO0xZsY/GJfiLxJayD8pekPI0uW3P5Ympnm5dtY/\",\"dtype\":\"float64\",\"shape\":[6]}},\"selected\":{\"id\":\"2010\",\"type\":\"Selection\"},\"selection_policy\":{\"id\":\"2011\",\"type\":\"UnionRenderers\"}},\"id\":\"1968\",\"type\":\"ColumnDataSource\"},{\"attributes\":{},\"id\":\"2019\",\"type\":\"UnionRenderers\"},{\"attributes\":{\"grid_line_color\":null,\"ticker\":{\"id\":\"1949\",\"type\":\"CategoricalTicker\"}},\"id\":\"1951\",\"type\":\"Grid\"},{\"attributes\":{\"overlay\":{\"id\":\"2009\",\"type\":\"BoxAnnotation\"}},\"id\":\"1960\",\"type\":\"BoxZoomTool\"},{\"attributes\":{},\"id\":\"2049\",\"type\":\"UnionRenderers\"},{\"attributes\":{},\"id\":\"2006\",\"type\":\"CategoricalTickFormatter\"},{\"attributes\":{},\"id\":\"1949\",\"type\":\"CategoricalTicker\"},{\"attributes\":{\"callback\":null,\"data\":{\"x0\":[\"ATV\",\"DRV\",\"FPV\",\"IDV\",\"LPV\",\"NFV\",\"SQV\",\"TPV\"],\"x1\":[\"ATV\",\"DRV\",\"FPV\",\"IDV\",\"LPV\",\"NFV\",\"SQV\",\"TPV\"],\"y0\":{\"__ndarray__\":\"+nqfyY9kyz9VyVHyfy/IP4tqPx1WGcY/qGz72noNxT82ZoqyYzrCP1l6hjYL6co/pRVglGVf0D9RulxVEhDPPw==\",\"dtype\":\"float64\",\"shape\":[8]},\"y1\":{\"__ndarray__\":\"p1eG69FJyT/yuztCHTvFP78s4Hm4TME/d5nH82PPwD9WfNvnc+nBPxdaKR8xFsY/DH8KixE6yT/U79AHW8XIPw==\",\"dtype\":\"float64\",\"shape\":[8]}},\"selected\":{\"id\":\"2012\",\"type\":\"Selection\"},\"selection_policy\":{\"id\":\"2013\",\"type\":\"UnionRenderers\"}},\"id\":\"1974\",\"type\":\"ColumnDataSource\"},{\"attributes\":{},\"id\":\"2050\",\"type\":\"Selection\"},{\"attributes\":{\"axis_label\":\"drug\",\"bounds\":\"auto\",\"formatter\":{\"id\":\"2006\",\"type\":\"CategoricalTickFormatter\"},\"major_label_orientation\":\"horizontal\",\"ticker\":{\"id\":\"1949\",\"type\":\"CategoricalTicker\"}},\"id\":\"1948\",\"type\":\"CategoricalAxis\"},{\"attributes\":{\"callback\":null,\"end\":0.35099636916911814,\"reset_end\":0.35099636916911814,\"reset_start\":0.048846482671365356,\"start\":0.048846482671365356,\"tags\":[[[\"value\",\"value\",null]]]},\"id\":\"1938\",\"type\":\"Range1d\"},{\"attributes\":{},\"id\":\"2015\",\"type\":\"UnionRenderers\"},{\"attributes\":{},\"id\":\"1946\",\"type\":\"LinearScale\"},{\"attributes\":{\"callback\":null,\"factors\":[\"ATV\",\"DRV\",\"FPV\",\"IDV\",\"LPV\",\"NFV\",\"SQV\",\"TPV\"],\"tags\":[[[\"Variable\",\"Variable\",null]]]},\"id\":\"1937\",\"type\":\"FactorRange\"},{\"attributes\":{\"source\":{\"id\":\"1980\",\"type\":\"ColumnDataSource\"}},\"id\":\"1985\",\"type\":\"CDSView\"},{\"attributes\":{\"data_source\":{\"id\":\"1980\",\"type\":\"ColumnDataSource\"},\"glyph\":{\"id\":\"1982\",\"type\":\"Segment\"},\"hover_glyph\":null,\"muted_glyph\":null,\"nonselection_glyph\":{\"id\":\"1983\",\"type\":\"Segment\"},\"selection_glyph\":null,\"view\":{\"id\":\"1985\",\"type\":\"CDSView\"}},\"id\":\"1984\",\"type\":\"GlyphRenderer\"},{\"attributes\":{},\"id\":\"1944\",\"type\":\"CategoricalScale\"},{\"attributes\":{\"callback\":null,\"data\":{\"bottom\":{\"__ndarray__\":\"yvF7ct39xz/GLEcZq+O/P864d/VG9cA/4bCwhb6tuz+CmgrCZ9nBP/cVruTW48I/I1deBHf7xz+vQRDs+J3CPw==\",\"dtype\":\"float64\",\"shape\":[8]},\"index\":[\"ATV\",\"DRV\",\"FPV\",\"IDV\",\"LPV\",\"NFV\",\"SQV\",\"TPV\"],\"top\":{\"__ndarray__\":\"xerKrKjixz8kM7csEHW6P25cQW9JM7w/4+oem3D4uD8WixG2frPBP0fLBy4qQL4/47bmIes2xD/a6b6d8pPAPw==\",\"dtype\":\"float64\",\"shape\":[8]}},\"selected\":{\"id\":\"2050\",\"type\":\"Selection\"},\"selection_policy\":{\"id\":\"2051\",\"type\":\"UnionRenderers\"}},\"id\":\"2022\",\"type\":\"ColumnDataSource\"},{\"attributes\":{\"dimension\":1,\"grid_line_color\":null,\"ticker\":{\"id\":\"1953\",\"type\":\"BasicTicker\"}},\"id\":\"1956\",\"type\":\"Grid\"},{\"attributes\":{},\"id\":\"2008\",\"type\":\"BasicTickFormatter\"},{\"attributes\":{\"text\":\"\",\"text_color\":{\"value\":\"black\"},\"text_font_size\":{\"value\":\"12pt\"}},\"id\":\"1940\",\"type\":\"Title\"},{\"attributes\":{\"callback\":null,\"data\":{\"x0\":[[\"ATV\",-0.2],[\"DRV\",-0.2],[\"FPV\",-0.2],[\"IDV\",-0.2],[\"LPV\",-0.2],[\"NFV\",-0.2],[\"SQV\",-0.2],[\"TPV\",-0.2]],\"x1\":[[\"ATV\",0.2],[\"DRV\",0.2],[\"FPV\",0.2],[\"IDV\",0.2],[\"LPV\",0.2],[\"NFV\",0.2],[\"SQV\",0.2],[\"TPV\",0.2]],\"y0\":[0.21400639862891763,0.18894957859044817,0.17264820507155706,0.16447387402044922,0.14240690439037146,0.21023693239563349,0.25582255830553385,0.24267796676709222],\"y1\":[0.21400639862891763,0.18894957859044817,0.17264820507155706,0.16447387402044922,0.14240690439037146,0.21023693239563349,0.25582255830553385,0.24267796676709222]},\"selected\":{\"id\":\"2018\",\"type\":\"Selection\"},\"selection_policy\":{\"id\":\"2019\",\"type\":\"UnionRenderers\"}},\"id\":\"1992\",\"type\":\"ColumnDataSource\"},{\"attributes\":{\"bottom\":{\"field\":\"bottom\"},\"fill_color\":{\"value\":\"#1f77b4\"},\"top\":{\"field\":\"top\"},\"width\":{\"value\":0.7},\"x\":{\"field\":\"index\"}},\"id\":\"2024\",\"type\":\"VBar\"},{\"attributes\":{},\"id\":\"1953\",\"type\":\"BasicTicker\"},{\"attributes\":{\"active_drag\":\"auto\",\"active_inspect\":\"auto\",\"active_multi\":null,\"active_scroll\":\"auto\",\"active_tap\":\"auto\",\"tools\":[{\"id\":\"1957\",\"type\":\"SaveTool\"},{\"id\":\"1958\",\"type\":\"PanTool\"},{\"id\":\"1959\",\"type\":\"WheelZoomTool\"},{\"id\":\"1960\",\"type\":\"BoxZoomTool\"},{\"id\":\"1961\",\"type\":\"ResetTool\"}]},\"id\":\"1962\",\"type\":\"Toolbar\"},{\"attributes\":{\"x0\":{\"field\":\"x0\"},\"x1\":{\"field\":\"x1\"},\"y0\":{\"field\":\"y0\"},\"y1\":{\"field\":\"y1\"}},\"id\":\"1982\",\"type\":\"Segment\"},{\"attributes\":{},\"id\":\"1957\",\"type\":\"SaveTool\"},{\"attributes\":{\"callback\":null,\"data\":{\"x0\":[\"ATV\",\"DRV\",\"FPV\",\"IDV\",\"LPV\",\"NFV\",\"SQV\",\"TPV\"],\"x1\":[\"ATV\",\"DRV\",\"FPV\",\"IDV\",\"LPV\",\"NFV\",\"SQV\",\"TPV\"],\"y0\":{\"__ndarray__\":\"csexzurHxT8pH0OSpo+zPyj30vfIALs/aSpVdVDFtz82oWLrjmLBP2spa7sEh7s/nlfVCAstvj8NQDL7ZwKpPw==\",\"dtype\":\"float64\",\"shape\":[8]},\"y1\":{\"__ndarray__\":\"xerKrKjixz8kM7csEHW6P25cQW9JM7w/4+oem3D4uD8WixG2frPBP0fLBy4qQL4/47bmIes2xD/a6b6d8pPAPw==\",\"dtype\":\"float64\",\"shape\":[8]}},\"selected\":{\"id\":\"2014\",\"type\":\"Selection\"},\"selection_policy\":{\"id\":\"2015\",\"type\":\"UnionRenderers\"}},\"id\":\"1980\",\"type\":\"ColumnDataSource\"},{\"attributes\":{\"bottom\":{\"field\":\"bottom\"},\"fill_alpha\":{\"value\":0.1},\"fill_color\":{\"value\":\"#1f77b4\"},\"line_alpha\":{\"value\":0.1},\"line_color\":{\"value\":\"black\"},\"top\":{\"field\":\"top\"},\"width\":{\"value\":0.7},\"x\":{\"field\":\"index\"}},\"id\":\"2025\",\"type\":\"VBar\"},{\"attributes\":{\"line_alpha\":{\"value\":0.1},\"line_color\":{\"value\":\"black\"},\"x0\":{\"field\":\"x0\"},\"x1\":{\"field\":\"x1\"},\"y0\":{\"field\":\"y0\"},\"y1\":{\"field\":\"y1\"}},\"id\":\"1989\",\"type\":\"Segment\"},{\"attributes\":{\"source\":{\"id\":\"1992\",\"type\":\"ColumnDataSource\"}},\"id\":\"1997\",\"type\":\"CDSView\"},{\"attributes\":{\"line_alpha\":{\"value\":0.1},\"line_color\":{\"value\":\"black\"},\"x0\":{\"field\":\"x0\"},\"x1\":{\"field\":\"x1\"},\"y0\":{\"field\":\"y0\"},\"y1\":{\"field\":\"y1\"}},\"id\":\"1995\",\"type\":\"Segment\"},{\"attributes\":{},\"id\":\"1961\",\"type\":\"ResetTool\"},{\"attributes\":{},\"id\":\"2010\",\"type\":\"Selection\"},{\"attributes\":{},\"id\":\"1959\",\"type\":\"WheelZoomTool\"},{\"attributes\":{\"data_source\":{\"id\":\"1986\",\"type\":\"ColumnDataSource\"},\"glyph\":{\"id\":\"1988\",\"type\":\"Segment\"},\"hover_glyph\":null,\"muted_glyph\":null,\"nonselection_glyph\":{\"id\":\"1989\",\"type\":\"Segment\"},\"selection_glyph\":null,\"view\":{\"id\":\"1991\",\"type\":\"CDSView\"}},\"id\":\"1990\",\"type\":\"GlyphRenderer\"},{\"attributes\":{\"line_alpha\":{\"value\":0.1},\"line_color\":{\"value\":\"black\"},\"x0\":{\"field\":\"x0\"},\"x1\":{\"field\":\"x1\"},\"y0\":{\"field\":\"y0\"},\"y1\":{\"field\":\"y1\"}},\"id\":\"1983\",\"type\":\"Segment\"},{\"attributes\":{},\"id\":\"2048\",\"type\":\"Selection\"},{\"attributes\":{\"data_source\":{\"id\":\"2022\",\"type\":\"ColumnDataSource\"},\"glyph\":{\"id\":\"2024\",\"type\":\"VBar\"},\"hover_glyph\":null,\"muted_glyph\":null,\"nonselection_glyph\":{\"id\":\"2025\",\"type\":\"VBar\"},\"selection_glyph\":null,\"view\":{\"id\":\"2027\",\"type\":\"CDSView\"}},\"id\":\"2026\",\"type\":\"GlyphRenderer\"}],\"root_ids\":[\"1939\"]},\"title\":\"Bokeh Application\",\"version\":\"1.3.1\"}};\n",
       "  var render_items = [{\"docid\":\"dcc300f2-41f9-40cc-9164-fd95749eabd0\",\"roots\":{\"1939\":\"1b9a2472-9204-4e00-86cb-6dbab10a56df\"}}];\n",
       "  root.Bokeh.embed.embed_items_notebook(docs_json, render_items);\n",
       "\n",
       "  }\n",
       "  if (root.Bokeh !== undefined) {\n",
       "    embed_document(root);\n",
       "  } else {\n",
       "    var attempts = 0;\n",
       "    var timer = setInterval(function(root) {\n",
       "      if (root.Bokeh !== undefined) {\n",
       "        embed_document(root);\n",
       "        clearInterval(timer);\n",
       "      }\n",
       "      attempts++;\n",
       "      if (attempts > 100) {\n",
       "        console.log(\"Bokeh: ERROR: Unable to run BokehJS code because BokehJS library is missing\");\n",
       "        clearInterval(timer);\n",
       "      }\n",
       "    }, 10, root)\n",
       "  }\n",
       "})(window);</script>"
      ],
      "text/plain": [
       ":BoxWhisker   [Variable]   (value)"
      ]
     },
     "execution_count": 112,
     "metadata": {
      "application/vnd.holoviews_exec.v0+json": {
       "id": "1939"
      }
     },
     "output_type": "execute_result"
    }
   ],
   "source": [
    "model_performance = pd.DataFrame(client.gather(scores))\n",
    "perfplot = model_performance.hvplot.box().opts(xlabel=\"drug\", ylabel=\"mse\")\n",
    "\n",
    "perfplot"
   ]
  },
  {
   "cell_type": "code",
   "execution_count": 136,
   "metadata": {},
   "outputs": [
    {
     "ename": "ValueError",
     "evalue": "<function callback at 0x7f664a52e510> parameter was not found in list of parameters of class StaticText",
     "output_type": "error",
     "traceback": [
      "\u001b[0;31m---------------------------------------------------------------------------\u001b[0m",
      "\u001b[0;31mValueError\u001b[0m                                Traceback (most recent call last)",
      "\u001b[0;32m<ipython-input-136-2f37b57f39e3>\u001b[0m in \u001b[0;36m<module>\u001b[0;34m\u001b[0m\n\u001b[1;32m      6\u001b[0m     \u001b[0;32mreturn\u001b[0m \u001b[0mlen\u001b[0m\u001b[0;34m(\u001b[0m\u001b[0mtarget\u001b[0m\u001b[0;34m.\u001b[0m\u001b[0mvalue\u001b[0m\u001b[0;34m)\u001b[0m\u001b[0;34m\u001b[0m\u001b[0;34m\u001b[0m\u001b[0m\n\u001b[1;32m      7\u001b[0m \u001b[0;34m\u001b[0m\u001b[0m\n\u001b[0;32m----> 8\u001b[0;31m \u001b[0mseqlength\u001b[0m\u001b[0;34m.\u001b[0m\u001b[0mlink\u001b[0m\u001b[0;34m(\u001b[0m\u001b[0msequence\u001b[0m\u001b[0;34m,\u001b[0m \u001b[0mcallbacks\u001b[0m\u001b[0;34m=\u001b[0m\u001b[0;34m[\u001b[0m\u001b[0mcallback\u001b[0m\u001b[0;34m]\u001b[0m\u001b[0;34m)\u001b[0m\u001b[0;34m\u001b[0m\u001b[0;34m\u001b[0m\u001b[0m\n\u001b[0m\u001b[1;32m      9\u001b[0m \u001b[0mpn\u001b[0m\u001b[0;34m.\u001b[0m\u001b[0mRow\u001b[0m\u001b[0;34m(\u001b[0m\u001b[0msequence\u001b[0m\u001b[0;34m,\u001b[0m \u001b[0mseqlength\u001b[0m\u001b[0;34m)\u001b[0m\u001b[0;34m\u001b[0m\u001b[0;34m\u001b[0m\u001b[0m\n",
      "\u001b[0;32m~/anaconda/envs/minimal-panel/lib/python3.7/site-packages/panel/viewable.py\u001b[0m in \u001b[0;36mlink\u001b[0;34m(self, target, callbacks, **links)\u001b[0m\n\u001b[1;32m    771\u001b[0m                     \u001b[0m_updating\u001b[0m\u001b[0;34m.\u001b[0m\u001b[0mpop\u001b[0m\u001b[0;34m(\u001b[0m\u001b[0m_updating\u001b[0m\u001b[0;34m.\u001b[0m\u001b[0mindex\u001b[0m\u001b[0;34m(\u001b[0m\u001b[0mevent\u001b[0m\u001b[0;34m.\u001b[0m\u001b[0mname\u001b[0m\u001b[0;34m)\u001b[0m\u001b[0;34m)\u001b[0m\u001b[0;34m\u001b[0m\u001b[0;34m\u001b[0m\u001b[0m\n\u001b[1;32m    772\u001b[0m         \u001b[0mparams\u001b[0m \u001b[0;34m=\u001b[0m \u001b[0mlist\u001b[0m\u001b[0;34m(\u001b[0m\u001b[0mcallbacks\u001b[0m\u001b[0;34m)\u001b[0m \u001b[0;32mif\u001b[0m \u001b[0mcallbacks\u001b[0m \u001b[0;32melse\u001b[0m \u001b[0mlist\u001b[0m\u001b[0;34m(\u001b[0m\u001b[0mlinks\u001b[0m\u001b[0;34m)\u001b[0m\u001b[0;34m\u001b[0m\u001b[0;34m\u001b[0m\u001b[0m\n\u001b[0;32m--> 773\u001b[0;31m         \u001b[0mcb\u001b[0m \u001b[0;34m=\u001b[0m \u001b[0mself\u001b[0m\u001b[0;34m.\u001b[0m\u001b[0mparam\u001b[0m\u001b[0;34m.\u001b[0m\u001b[0mwatch\u001b[0m\u001b[0;34m(\u001b[0m\u001b[0mlink\u001b[0m\u001b[0;34m,\u001b[0m \u001b[0mparams\u001b[0m\u001b[0;34m)\u001b[0m\u001b[0;34m\u001b[0m\u001b[0;34m\u001b[0m\u001b[0m\n\u001b[0m\u001b[1;32m    774\u001b[0m         \u001b[0mself\u001b[0m\u001b[0;34m.\u001b[0m\u001b[0m_callbacks\u001b[0m\u001b[0;34m.\u001b[0m\u001b[0mappend\u001b[0m\u001b[0;34m(\u001b[0m\u001b[0mcb\u001b[0m\u001b[0;34m)\u001b[0m\u001b[0;34m\u001b[0m\u001b[0;34m\u001b[0m\u001b[0m\n\u001b[1;32m    775\u001b[0m         \u001b[0;32mreturn\u001b[0m \u001b[0mcb\u001b[0m\u001b[0;34m\u001b[0m\u001b[0;34m\u001b[0m\u001b[0m\n",
      "\u001b[0;32m~/anaconda/envs/minimal-panel/lib/python3.7/site-packages/param/parameterized.py\u001b[0m in \u001b[0;36mwatch\u001b[0;34m(self_, fn, parameter_names, what, onlychanged)\u001b[0m\n\u001b[1;32m   1724\u001b[0m                           \u001b[0monlychanged\u001b[0m\u001b[0;34m=\u001b[0m\u001b[0monlychanged\u001b[0m\u001b[0;34m,\u001b[0m \u001b[0mparameter_names\u001b[0m\u001b[0;34m=\u001b[0m\u001b[0mparameter_names\u001b[0m\u001b[0;34m,\u001b[0m\u001b[0;34m\u001b[0m\u001b[0;34m\u001b[0m\u001b[0m\n\u001b[1;32m   1725\u001b[0m                           what=what)\n\u001b[0;32m-> 1726\u001b[0;31m         \u001b[0mself_\u001b[0m\u001b[0;34m.\u001b[0m\u001b[0m_watch\u001b[0m\u001b[0;34m(\u001b[0m\u001b[0;34m'append'\u001b[0m\u001b[0;34m,\u001b[0m \u001b[0mwatcher\u001b[0m\u001b[0;34m,\u001b[0m \u001b[0mwhat\u001b[0m\u001b[0;34m)\u001b[0m\u001b[0;34m\u001b[0m\u001b[0;34m\u001b[0m\u001b[0m\n\u001b[0m\u001b[1;32m   1727\u001b[0m         \u001b[0;32mreturn\u001b[0m \u001b[0mwatcher\u001b[0m\u001b[0;34m\u001b[0m\u001b[0;34m\u001b[0m\u001b[0m\n\u001b[1;32m   1728\u001b[0m \u001b[0;34m\u001b[0m\u001b[0m\n",
      "\u001b[0;32m~/anaconda/envs/minimal-panel/lib/python3.7/site-packages/param/parameterized.py\u001b[0m in \u001b[0;36m_watch\u001b[0;34m(self_, action, watcher, what, operation)\u001b[0m\n\u001b[1;32m   1704\u001b[0m                 raise ValueError(\"%s parameter was not found in list of \"\n\u001b[1;32m   1705\u001b[0m                                  \u001b[0;34m\"parameters of class %s\"\u001b[0m \u001b[0;34m%\u001b[0m\u001b[0;34m\u001b[0m\u001b[0;34m\u001b[0m\u001b[0m\n\u001b[0;32m-> 1706\u001b[0;31m                                  (parameter_name, self_.cls.__name__))\n\u001b[0m\u001b[1;32m   1707\u001b[0m \u001b[0;34m\u001b[0m\u001b[0m\n\u001b[1;32m   1708\u001b[0m             \u001b[0;32mif\u001b[0m \u001b[0mself_\u001b[0m\u001b[0;34m.\u001b[0m\u001b[0mself\u001b[0m \u001b[0;32mis\u001b[0m \u001b[0;32mnot\u001b[0m \u001b[0;32mNone\u001b[0m \u001b[0;32mand\u001b[0m \u001b[0mwhat\u001b[0m \u001b[0;34m==\u001b[0m \u001b[0;34m\"value\"\u001b[0m\u001b[0;34m:\u001b[0m\u001b[0;34m\u001b[0m\u001b[0;34m\u001b[0m\u001b[0m\n",
      "\u001b[0;31mValueError\u001b[0m: <function callback at 0x7f664a52e510> parameter was not found in list of parameters of class StaticText"
     ]
    }
   ],
   "source": [
    "sequence = pn.widgets.TextInput(name=\"Protein Sequence\")\n",
    "\n",
    "seqlength = pn.widgets.StaticText(value=len(sequence.value))\n",
    "\n",
    "def callback(target, event):\n",
    "    return len(target.value)\n",
    "\n",
    "seqlength.link(sequence, callbacks=[callback])\n",
    "pn.Row(sequence, seqlength)"
   ]
  },
  {
   "cell_type": "code",
   "execution_count": 126,
   "metadata": {},
   "outputs": [
    {
     "ename": "TypeError",
     "evalue": "a bytes-like object is required, not 'NoneType'",
     "output_type": "error",
     "traceback": [
      "\u001b[0;31m---------------------------------------------------------------------------\u001b[0m",
      "\u001b[0;31mTypeError\u001b[0m                                 Traceback (most recent call last)",
      "\u001b[0;32m<ipython-input-126-c5fdfbf91967>\u001b[0m in \u001b[0;36m<module>\u001b[0;34m\u001b[0m\n\u001b[0;32m----> 1\u001b[0;31m \u001b[0mfasta_file\u001b[0m\u001b[0;34m.\u001b[0m\u001b[0msave\u001b[0m\u001b[0;34m(\u001b[0m\u001b[0;34m\"hello.png\"\u001b[0m\u001b[0;34m)\u001b[0m\u001b[0;34m\u001b[0m\u001b[0;34m\u001b[0m\u001b[0m\n\u001b[0m",
      "\u001b[0;32m~/anaconda/envs/minimal-panel/lib/python3.7/site-packages/panel/widgets/input.py\u001b[0m in \u001b[0;36msave\u001b[0;34m(self, filename)\u001b[0m\n\u001b[1;32m     72\u001b[0m         \u001b[0;32mif\u001b[0m \u001b[0misinstance\u001b[0m\u001b[0;34m(\u001b[0m\u001b[0mfilename\u001b[0m\u001b[0;34m,\u001b[0m \u001b[0mstring_types\u001b[0m\u001b[0;34m)\u001b[0m\u001b[0;34m:\u001b[0m\u001b[0;34m\u001b[0m\u001b[0;34m\u001b[0m\u001b[0m\n\u001b[1;32m     73\u001b[0m             \u001b[0;32mwith\u001b[0m \u001b[0mopen\u001b[0m\u001b[0;34m(\u001b[0m\u001b[0mfilename\u001b[0m\u001b[0;34m,\u001b[0m \u001b[0;34m'wb'\u001b[0m\u001b[0;34m)\u001b[0m \u001b[0;32mas\u001b[0m \u001b[0mf\u001b[0m\u001b[0;34m:\u001b[0m\u001b[0;34m\u001b[0m\u001b[0;34m\u001b[0m\u001b[0m\n\u001b[0;32m---> 74\u001b[0;31m                 \u001b[0mf\u001b[0m\u001b[0;34m.\u001b[0m\u001b[0mwrite\u001b[0m\u001b[0;34m(\u001b[0m\u001b[0mself\u001b[0m\u001b[0;34m.\u001b[0m\u001b[0mvalue\u001b[0m\u001b[0;34m)\u001b[0m\u001b[0;34m\u001b[0m\u001b[0;34m\u001b[0m\u001b[0m\n\u001b[0m\u001b[1;32m     75\u001b[0m         \u001b[0;32melse\u001b[0m\u001b[0;34m:\u001b[0m\u001b[0;34m\u001b[0m\u001b[0;34m\u001b[0m\u001b[0m\n\u001b[1;32m     76\u001b[0m             \u001b[0mfilename\u001b[0m\u001b[0;34m.\u001b[0m\u001b[0mwrite\u001b[0m\u001b[0;34m(\u001b[0m\u001b[0mself\u001b[0m\u001b[0;34m.\u001b[0m\u001b[0mvalue\u001b[0m\u001b[0;34m)\u001b[0m\u001b[0;34m\u001b[0m\u001b[0;34m\u001b[0m\u001b[0m\n",
      "\u001b[0;31mTypeError\u001b[0m: a bytes-like object is required, not 'NoneType'"
     ]
    }
   ],
   "source": [
    "fasta_file.save(\"hello.png\")"
   ]
  },
  {
   "cell_type": "markdown",
   "metadata": {},
   "source": [
    "## Intro Tab"
   ]
  },
  {
   "cell_type": "code",
   "execution_count": null,
   "metadata": {},
   "outputs": [],
   "source": [
    "intro_txt = pn.pane.Markdown(\"\"\"\n",
    "# Minimal Panel Example\n",
    "\n",
    "This is a minimal Panel example that shows you how to serve and deploy a Panel app.\n",
    "\n",
    "Panel is a dashboarding toolkit that works inside and outside of Jupyter notebooks.\n",
    "You can prototype your dashboard visualizations inside a Jupyter notebook, \n",
    "and then choose how you want to serve it:\n",
    "\n",
    "- As a standalone `.py` file\n",
    "- Served using a Jupyter notebook\n",
    "\n",
    "Click on the next tab to see a plot generated using Panel and hvPlot.\n",
    "\n",
    "The source code for this project can be found [here](https://github.com/ericmjl/minimal-panel-app).\n",
    "\"\"\")"
   ]
  },
  {
   "cell_type": "markdown",
   "metadata": {},
   "source": [
    "## Interface"
   ]
  },
  {
   "cell_type": "code",
   "execution_count": null,
   "metadata": {},
   "outputs": [],
   "source": [
    "tabs = dict()\n",
    "tabs['Introduction'] = intro_txt\n",
    "tabs['1. Iris'] = scatter_tab\n",
    "\n",
    "def dict2tuple(d):\n",
    "    return tuple(zip(*zip(*d.items())))\n",
    "\n",
    "dict2tuple(tabs)\n",
    "app = pn.Tabs(*dict2tuple(tabs))\n",
    "app.servable()"
   ]
  },
  {
   "cell_type": "code",
   "execution_count": null,
   "metadata": {},
   "outputs": [],
   "source": []
  }
 ],
 "metadata": {
  "kernelspec": {
   "display_name": "minimal-panel",
   "language": "python",
   "name": "minimal-panel"
  },
  "language_info": {
   "codemirror_mode": {
    "name": "ipython",
    "version": 3
   },
   "file_extension": ".py",
   "mimetype": "text/x-python",
   "name": "python",
   "nbconvert_exporter": "python",
   "pygments_lexer": "ipython3",
   "version": "3.7.3"
  }
 },
 "nbformat": 4,
 "nbformat_minor": 2
}
