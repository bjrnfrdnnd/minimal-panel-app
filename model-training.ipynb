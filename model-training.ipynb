{
 "cells": [
  {
   "cell_type": "code",
   "execution_count": 1,
   "metadata": {},
   "outputs": [],
   "source": [
    "from dask.distributed import LocalCluster, Client\n",
    "import numpy as np\n",
    "import pandas as pd\n",
    "import janitor\n",
    "\n",
    "\n",
    "cluster = LocalCluster()\n",
    "client = Client(cluster)"
   ]
  },
  {
   "cell_type": "code",
   "execution_count": 2,
   "metadata": {},
   "outputs": [],
   "source": [
    "from utils import molecular_weights, featurize_sequence_"
   ]
  },
  {
   "cell_type": "code",
   "execution_count": 3,
   "metadata": {},
   "outputs": [],
   "source": [
    "drugs = ['ATV', 'DRV', 'FPV', 'IDV', 'LPV', 'NFV', 'SQV', 'TPV']\n",
    "\n",
    "data = (\n",
    "    pd.read_csv(\"data/hiv-protease-data-expanded.csv\", index_col=0)\n",
    "    .query(\"weight == 1.0\")\n",
    "    .transform_column(\"sequence\", lambda x: len(x), \"seq_length\")\n",
    "    .query(\"seq_length == 99\")\n",
    "    .transform_column(\"sequence\", featurize_sequence_, \"features\")\n",
    "    .transform_columns(drugs, np.log10)\n",
    ")\n",
    "data.head(3)\n",
    "\n",
    "features = pd.DataFrame(np.vstack(data['features'])).set_index(data.index)"
   ]
  },
  {
   "cell_type": "code",
   "execution_count": 4,
   "metadata": {},
   "outputs": [],
   "source": [
    "from sklearn.ensemble import RandomForestRegressor\n",
    "from sklearn.model_selection import cross_val_score\n",
    "\n",
    "\n",
    "def fit_model(data, features, target):\n",
    "    import janitor\n",
    "    model = RandomForestRegressor(n_estimators=300)\n",
    "    \n",
    "    resistance_data = features.join(data[target]).dropna()\n",
    "    X, y = resistance_data.get_features_targets(target_column_names=target)\n",
    "    \n",
    "    model.fit(X, y)\n",
    "    return model\n",
    "\n",
    "\n",
    "def cross_validate(data, features, target):\n",
    "    import janitor\n",
    "    model = RandomForestRegressor(n_estimators=500)\n",
    "    \n",
    "    resistance_data = features.join(data[target]).dropna()\n",
    "    X, y = resistance_data.get_features_targets(target_column_names=target)\n",
    "    \n",
    "    return -cross_val_score(model, X, y, scoring='neg_mean_squared_error', cv=5)\n",
    "\n",
    "\n",
    "def predict(model, sequence):\n",
    "    \"\"\"\n",
    "    :param model: sklearn model\n",
    "    :param sequence: A string, should be 99 characters long.\n",
    "    \"\"\"\n",
    "    assert len(sequence) == 99\n",
    "    assert set(sequence) == set(molecular_weights.keys())\n",
    "    \n",
    "    seqfeat = featurize_sequence_(sequence)\n",
    "    return model.predict(seqfeat)\n",
    "    \n",
    "    \n",
    "\n",
    "dataf = client.scatter(data)\n",
    "featuresf = client.scatter(features)\n",
    "\n",
    "\n",
    "models = dict()\n",
    "scores = dict()\n",
    "\n",
    "\n",
    "for drug in drugs:\n",
    "    models[drug] = client.submit(fit_model, dataf, featuresf, drug)\n",
    "    scores[drug] = client.submit(cross_validate, dataf, featuresf, drug)\n",
    "    \n",
    "models = client.gather(models)"
   ]
  },
  {
   "cell_type": "code",
   "execution_count": 7,
   "metadata": {},
   "outputs": [],
   "source": [
    "import pickle as pkl\n",
    "import gzip\n",
    "\n",
    "for name, model in models.items():\n",
    "    with gzip.open(f\"data/models/{name}.pkl.gz\", 'wb') as f:\n",
    "        pkl.dump(model, f)"
   ]
  },
  {
   "cell_type": "code",
   "execution_count": 8,
   "metadata": {},
   "outputs": [],
   "source": [
    "scores = client.gather(scores)\n",
    "with gzip.open(\"data/scores.pkl.gz\", \"wb\") as f:\n",
    "    pkl.dump(scores, f)"
   ]
  },
  {
   "cell_type": "code",
   "execution_count": null,
   "metadata": {},
   "outputs": [],
   "source": []
  }
 ],
 "metadata": {
  "kernelspec": {
   "display_name": "minimal-panel",
   "language": "python",
   "name": "minimal-panel"
  },
  "language_info": {
   "codemirror_mode": {
    "name": "ipython",
    "version": 3
   },
   "file_extension": ".py",
   "mimetype": "text/x-python",
   "name": "python",
   "nbconvert_exporter": "python",
   "pygments_lexer": "ipython3",
   "version": "3.7.3"
  }
 },
 "nbformat": 4,
 "nbformat_minor": 4
}
